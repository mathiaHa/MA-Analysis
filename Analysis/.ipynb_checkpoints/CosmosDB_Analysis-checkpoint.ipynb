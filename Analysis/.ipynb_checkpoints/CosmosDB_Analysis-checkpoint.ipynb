{
 "cells": [
  {
   "cell_type": "markdown",
   "metadata": {},
   "source": [
    "#### Import module"
   ]
  },
  {
   "cell_type": "code",
   "execution_count": 1,
   "metadata": {
    "collapsed": true
   },
   "outputs": [],
   "source": [
    "%load_ext autoreload"
   ]
  },
  {
   "cell_type": "code",
   "execution_count": 1,
   "metadata": {},
   "outputs": [],
   "source": [
    "import os\n",
    "import sys\n",
    "\n",
    "import pydocumentdb.documents as documents\n",
    "import pydocumentdb.document_client as document_client\n",
    "import pydocumentdb.errors as errors\n",
    "\n",
    "import documentDB.config as cfg\n",
    "import documentDB.collectionmanagement as colt\n",
    "import documentDB.databasemanagement as doc"
   ]
  },
  {
   "cell_type": "code",
   "execution_count": 12,
   "metadata": {},
   "outputs": [
    {
     "name": "stdout",
     "output_type": "stream",
     "text": [
      "\n",
      "5. List all Collection in a Database\n",
      "Collections:\n",
      "scheduler\n",
      "rte_test4\n",
      "rte_test1\n",
      "rte_test2\n",
      "rte_test3\n",
      "errors\n",
      "rte_test5\n",
      "None\n",
      "\n",
      "4. Get a Collection by id\n",
      "Collection with id 'rte_test5' was found, it's _self is dbs/KQ9ZAA==/colls/KQ9ZAMSiAwM=/\n",
      "None\n"
     ]
    },
    {
     "name": "stderr",
     "output_type": "stream",
     "text": [
      "C:\\Users\\hauretouze_m\\AppData\\Local\\conda\\conda\\envs\\ipykernel_py2\\lib\\site-packages\\urllib3\\connectionpool.py:858: InsecureRequestWarning: Unverified HTTPS request is being made. Adding certificate verification is strongly advised. See: https://urllib3.readthedocs.io/en/latest/advanced-usage.html#ssl-warnings\n",
      "  InsecureRequestWarning)\n",
      "C:\\Users\\hauretouze_m\\AppData\\Local\\conda\\conda\\envs\\ipykernel_py2\\lib\\site-packages\\urllib3\\connectionpool.py:858: InsecureRequestWarning: Unverified HTTPS request is being made. Adding certificate verification is strongly advised. See: https://urllib3.readthedocs.io/en/latest/advanced-usage.html#ssl-warnings\n",
      "  InsecureRequestWarning)\n",
      "C:\\Users\\hauretouze_m\\AppData\\Local\\conda\\conda\\envs\\ipykernel_py2\\lib\\site-packages\\urllib3\\connectionpool.py:858: InsecureRequestWarning: Unverified HTTPS request is being made. Adding certificate verification is strongly advised. See: https://urllib3.readthedocs.io/en/latest/advanced-usage.html#ssl-warnings\n",
      "  InsecureRequestWarning)\n"
     ]
    }
   ],
   "source": [
    "with colt.IDisposable(document_client.DocumentClient(cfg.settings.host, {'masterKey': cfg.settings.master_key} )) as client:\n",
    "    try:\n",
    "        print colt.CollectionManagement.list_collections(client, cfg.settings.database_id)\n",
    "        print colt.CollectionManagement.read_collection(client, cfg.settings.collection_id,cfg.settings.database_id)\n",
    "    except errors.HTTPFailure as e:\n",
    "        print('\\nrun_sample has caught an error. {0}'.format(e.message))\n",
    "\n",
    "    finally:\n",
    "        print(\"\\nrun_sample done\")"
   ]
  },
  {
   "cell_type": "code",
   "execution_count": 8,
   "metadata": {},
   "outputs": [
    {
     "name": "stdout",
     "output_type": "stream",
     "text": [
      "Help on class CollectionManagement in module documentDB.collectionmanagement:\n",
      "\n",
      "class CollectionManagement\n",
      " |  Static methods defined here:\n",
      " |  \n",
      " |  create_collection(client, id, db_id)\n",
      " |      Execute the most basic Create of collection. \n",
      " |      This will create a collection with OfferType = S1 and default indexing policy\n",
      " |  \n",
      " |  delete_collection(client, id, db_id)\n",
      " |  \n",
      " |  find_collection(client, id, db_id)\n",
      " |  \n",
      " |  list_collections(client, db_id)\n",
      " |  \n",
      " |  manage_offertype(client, id, db_id)\n",
      " |  \n",
      " |  read_collection(client, id, db_id)\n",
      "\n"
     ]
    }
   ],
   "source": [
    "help(colt.CollectionManagement)"
   ]
  }
 ],
 "metadata": {
  "kernelspec": {
   "display_name": "Python 2",
   "language": "python",
   "name": "python2"
  },
  "language_info": {
   "codemirror_mode": {
    "name": "ipython",
    "version": 2
   },
   "file_extension": ".py",
   "mimetype": "text/x-python",
   "name": "python",
   "nbconvert_exporter": "python",
   "pygments_lexer": "ipython2",
   "version": "2.7.13"
  }
 },
 "nbformat": 4,
 "nbformat_minor": 2
}
