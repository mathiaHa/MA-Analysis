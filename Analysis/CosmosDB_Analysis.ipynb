{
 "cells": [
  {
   "cell_type": "markdown",
   "metadata": {},
   "source": [
    "#### Import module"
   ]
  },
  {
   "cell_type": "code",
   "execution_count": 21,
   "metadata": {},
   "outputs": [],
   "source": [
    "import sys\n",
    "\n",
    "import pydocumentdb.documents as documents\n",
    "import pydocumentdb.document_client as document_client\n",
    "import pydocumentdb.errors as errors\n",
    "\n",
    "import config as cfg"
   ]
  },
  {
   "cell_type": "code",
   "execution_count": 24,
   "metadata": {},
   "outputs": [],
   "source": [
    "class settings:\n",
    "\tCSRF_ENABLED = True\n",
    "\tSECRET_KEY = 'you-will-never-guess'\n",
    "\n",
    "\tDOCUMENTDB_HOST = 'https://localhost:8081'\n",
    "\tDOCUMENTDB_KEY = 'C2y6yDjf5/R+ob0N8A7Cgv30VRDJIWEHLM+4QDU5DE2nQ9nDuVTqobD4b8mGGyPMbIZnqyMsEcaGQy67XIw/Jw=='\n",
    "\n",
    "\tDOCUMENTDB_DATABASE = 'LaSD'\n",
    "\tDOCUMENTDB_COLLECTION = 'rte_test5'\n",
    "\tDOCUMENTDB_DOCUMENT = 'voting document'"
   ]
  },
  {
   "cell_type": "code",
   "execution_count": 25,
   "metadata": {},
   "outputs": [
    {
     "name": "stdout",
     "output_type": "stream",
     "text": [
      "https://localhost:8081\n"
     ]
    }
   ],
   "source": [
    "print settings.DOCUMENTDB_HOST"
   ]
  }
 ],
 "metadata": {
  "kernelspec": {
   "display_name": "Python 2",
   "language": "python",
   "name": "python2"
  },
  "language_info": {
   "codemirror_mode": {
    "name": "ipython",
    "version": 2
   },
   "file_extension": ".py",
   "mimetype": "text/x-python",
   "name": "python",
   "nbconvert_exporter": "python",
   "pygments_lexer": "ipython2",
   "version": "2.7.13"
  }
 },
 "nbformat": 4,
 "nbformat_minor": 2
}
