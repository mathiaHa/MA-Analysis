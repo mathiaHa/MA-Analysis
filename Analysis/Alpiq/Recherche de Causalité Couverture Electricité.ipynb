{
 "cells": [
  {
   "cell_type": "code",
   "execution_count": 1,
   "metadata": {
    "collapsed": true
   },
   "outputs": [],
   "source": [
    "import os\n",
    "import sys\n",
    "import itertools\n",
    "import json\n",
    "\n",
    "import pydocumentdb.documents as documents\n",
    "import pydocumentdb.document_client as document_client\n",
    "import pydocumentdb.errors as errors\n",
    "import pydocumentdb.http_constants as http_constants\n",
    "\n",
    "import pandas as pd; pd.options.display.max_rows = 10\n",
    "import matplotlib.pyplot as plt\n",
    "plt.style.use('seaborn')\n",
    "import numpy as np\n",
    "\n",
    "import view.config as cfg\n",
    "import view.storage as st\n",
    "import view.normalization as norm\n",
    "\n",
    "import urllib3\n",
    "urllib3.disable_warnings(urllib3.exceptions.InsecureRequestWarning)\n",
    "\n",
    "from IPython.core.display import HTML\n",
    "from IPython.display import display"
   ]
  },
  {
   "cell_type": "code",
   "execution_count": 2,
   "metadata": {
    "collapsed": true
   },
   "outputs": [],
   "source": [
    "HOST = cfg.settings.host\n",
    "MASTER_KEY = cfg.settings.master_key\n",
    "DATABASE_ID = cfg.settings.database_id\n",
    "COLLECTION_ID = cfg.settings.collection_id"
   ]
  },
  {
   "cell_type": "code",
   "execution_count": 8,
   "metadata": {
    "collapsed": true
   },
   "outputs": [],
   "source": [
    "res_names = [\"insufficients_offers\"]"
   ]
  },
  {
   "cell_type": "code",
   "execution_count": 12,
   "metadata": {
    "scrolled": true
   },
   "outputs": [
    {
     "name": "stdout",
     "output_type": "stream",
     "text": [
      "function(params){\r\n",
      "    var context = getContext();\r\n",
      "    var collection = context.getCollection();\r\n",
      "    var response = context.getResponse();\r\n",
      "    \r\n",
      "    var documents = {};\r\n",
      "\r\n",
      "    var parameters = JSON.parse(params);\r\n",
      "\r\n",
      "    for (var i = 0; i < parameters.resources.length; i++) {\r\n",
      "        \r\n",
      "        var resource = parameters.resources[i];\r\n",
      "        \r\n",
      "        var query = 'SELECT * FROM d WHERE d.resourcename = \"' + resource + '\"' +\r\n",
      "        //' AND ( d[\"end_date\"] >= \"' + parameters.start + '\")';\r\n",
      "        ' AND ( (d[\"end_date\"] >= \"' + parameters.start + '\") AND (d[\"start_date\"] <= \"'+ parameters.end +'\"))';\r\n",
      "        \r\n",
      "        var queryDocs = collection.queryDocuments(collection.getSelfLink(), query, {},\r\n",
      "        function(err, docs){\r\n",
      "            \r\n",
      "            // Error management\r\n",
      "            if(err) throw new Error(\"Error\" + err.message);\r\n",
      "            if(docs.length == 0) documents[resource] = \"Unable to parse documents\";\r\n",
      "                        \r\n",
      "            documents[resource] = docs;\r\n",
      "\r\n",
      "            for(var j=0; j<docs.length; j++){\r\n",
      "                console.log(docs[i].start_date);\r\n",
      "                console.log(docs[i].end_date);\r\n",
      "                console.log(docs[i].resourcename);\r\n",
      "                \r\n",
      "            }\r\n",
      "        });\r\n",
      "    }\r\n",
      "    response.setBody(documents);\r\n",
      "    \r\n",
      "    return;\r\n",
      "    \r\n",
      "}\n",
      "None\n"
     ]
    },
    {
     "data": {
      "text/html": [
       "<div>\n",
       "<style>\n",
       "    .dataframe thead tr:only-child th {\n",
       "        text-align: right;\n",
       "    }\n",
       "\n",
       "    .dataframe thead th {\n",
       "        text-align: left;\n",
       "    }\n",
       "\n",
       "    .dataframe tbody tr th {\n",
       "        vertical-align: top;\n",
       "    }\n",
       "</style>\n",
       "<table border=\"1\" class=\"dataframe\">\n",
       "  <thead>\n",
       "    <tr style=\"text-align: right;\">\n",
       "      <th></th>\n",
       "    </tr>\n",
       "  </thead>\n",
       "  <tbody>\n",
       "  </tbody>\n",
       "</table>\n",
       "</div>"
      ],
      "text/plain": [
       "Empty DataFrame\n",
       "Columns: []\n",
       "Index: []"
      ]
     },
     "execution_count": 12,
     "metadata": {},
     "output_type": "execute_result"
    }
   ],
   "source": [
    "client = document_client.DocumentClient(HOST, {'masterKey': MASTER_KEY})\n",
    "\n",
    "coll_link = st.GetCollectionLink(client, DATABASE_ID, COLLECTION_ID)\n",
    "proc = [p for p in client.ReadStoredProcedures(coll_link, options=None) if p[\"id\"]==\"ReadResources\"][0]\n",
    "print proc[\"body\"]\n",
    "options = { 'enableScriptLogging': True }\n",
    "params = {\n",
    "    \"resources\": res_names, \n",
    "    \"start\": \"2013-03-29T00:00:00+02:00\",\n",
    "    \"end\": \"2013-03-29T23:30:00+01:00\"\n",
    "}\n",
    "try:\n",
    "    dodocs = client.ExecuteStoredProcedure(proc[\"_self\"],json.dumps(params), options)\n",
    "except Exception as ex:\n",
    "    error = errors.JSONParseFailure(ex)\n",
    "    print errors.JSONParseFailure(error)\n",
    "print client.last_response_headers.get(http_constants.HttpHeaders.ScriptLogResults)\n",
    "\n",
    "pd.DataFrame.from_dict([v  for d in dodocs[u'insufficients_offers'] for v in d[\"data\"]])"
   ]
  }
 ],
 "metadata": {
  "kernelspec": {
   "display_name": "Python 2",
   "language": "python",
   "name": "python2"
  },
  "language_info": {
   "codemirror_mode": {
    "name": "ipython",
    "version": 2
   },
   "file_extension": ".py",
   "mimetype": "text/x-python",
   "name": "python",
   "nbconvert_exporter": "python",
   "pygments_lexer": "ipython2",
   "version": "2.7.13"
  }
 },
 "nbformat": 4,
 "nbformat_minor": 2
}
