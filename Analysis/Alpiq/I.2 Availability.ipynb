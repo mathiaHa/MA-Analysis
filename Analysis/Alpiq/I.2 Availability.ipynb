{
 "cells": [
  {
   "cell_type": "code",
   "execution_count": 1,
   "metadata": {
    "collapsed": true
   },
   "outputs": [],
   "source": [
    "import os\n",
    "import sys\n",
    "import itertools\n",
    "\n",
    "import chardet\n",
    "import json\n",
    "\n",
    "import time\n",
    "\n",
    "import pydocumentdb.documents as documents\n",
    "import pydocumentdb.document_client as document_client\n",
    "import pydocumentdb.errors as errors\n",
    "import pydocumentdb.http_constants as http_constants\n",
    "\n",
    "import pandas as pd; pd.options.display.max_rows = 10\n",
    "import matplotlib.pyplot as plt\n",
    "plt.style.use('seaborn')\n",
    "import numpy as np\n",
    "\n",
    "import view.config as cfg\n",
    "import view.storage as st\n",
    "import activated_offers.ao_settings as aos\n",
    "import activated_offers.ao_functions as aof\n",
    "\n",
    "import urllib3\n",
    "urllib3.disable_warnings(urllib3.exceptions.InsecureRequestWarning)\n",
    "\n",
    "from IPython.core.display import HTML\n",
    "from IPython.display import display"
   ]
  },
  {
   "cell_type": "code",
   "execution_count": 2,
   "metadata": {},
   "outputs": [
    {
     "data": {
      "text/plain": [
       "'causality1'"
      ]
     },
     "execution_count": 2,
     "metadata": {},
     "output_type": "execute_result"
    }
   ],
   "source": [
    "HOST = cfg.settings.host\n",
    "MASTER_KEY = cfg.settings.master_key\n",
    "DATABASE_ID = cfg.settings.database_id\n",
    "COLLECTION_ID = cfg.settings.collection_id\n",
    "COLLECTION_ID"
   ]
  },
  {
   "cell_type": "code",
   "execution_count": 4,
   "metadata": {},
   "outputs": [],
   "source": [
    "client = document_client.DocumentClient(HOST, {'masterKey': MASTER_KEY})\n",
    "coll_link = st.GetCollectionLink(client, DATABASE_ID, COLLECTION_ID)"
   ]
  },
  {
   "cell_type": "code",
   "execution_count": 5,
   "metadata": {
    "collapsed": true
   },
   "outputs": [],
   "source": [
    "res_names = [\"procured_reserves\", \"accepted_offers\", \"insufficients_offers\", \"activated_offers\", \"peak_daily_margins\"]"
   ]
  },
  {
   "cell_type": "code",
   "execution_count": 6,
   "metadata": {},
   "outputs": [
    {
     "name": "stdout",
     "output_type": "stream",
     "text": [
      "None\n"
     ]
    },
    {
     "data": {
      "text/plain": [
       "dict_keys([u'accepted_offers', u'peak_daily_margins', u'activated_offers', u'insufficients_offers', u'procured_reserves'])"
      ]
     },
     "execution_count": 6,
     "metadata": {},
     "output_type": "execute_result"
    }
   ],
   "source": [
    "proc_id = \"StartEndByResource\"\n",
    "options = { 'enableScriptLogging': True }\n",
    "params = {\n",
    "    \"resources\": res_names,\n",
    "    \"options\" : {\n",
    "        \"pageSize\":-1\n",
    "    }\n",
    "}\n",
    "results = st.ExecuteProcedure( client, coll_link, proc_id, params, options )\n",
    "results.viewkeys()"
   ]
  },
  {
   "cell_type": "code",
   "execution_count": 9,
   "metadata": {
    "scrolled": false
   },
   "outputs": [
    {
     "name": "stdout",
     "output_type": "stream",
     "text": [
      "accepted_offers : 2014-12-17T00:00:00+01:00 -> 2017-10-11T00:00:00+02:00\n",
      "(1029L,)\n"
     ]
    }
   ],
   "source": [
    "res_name = \"accepted_offers\"\n",
    "\n",
    "df = pd.DataFrame(results[res_name])\n",
    "\n",
    "start = df.start_date.min()\n",
    "end = df.start_date.max()\n",
    "\n",
    "print (res_name + \" : \" + start + \" -> \" + end)\n",
    "\n",
    "\n",
    "\n",
    "print df.start_date.sort_values(axis=0).astype(np.datetime64).unique().shape"
   ]
  }
 ],
 "metadata": {
  "kernelspec": {
   "display_name": "Python 2",
   "language": "python",
   "name": "python2"
  },
  "language_info": {
   "codemirror_mode": {
    "name": "ipython",
    "version": 2
   },
   "file_extension": ".py",
   "mimetype": "text/x-python",
   "name": "python",
   "nbconvert_exporter": "python",
   "pygments_lexer": "ipython2",
   "version": "2.7.13"
  }
 },
 "nbformat": 4,
 "nbformat_minor": 2
}
